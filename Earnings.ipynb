{
 "cells": [
  {
   "cell_type": "markdown",
   "source": [
    "Import Packages"
   ],
   "metadata": {
    "collapsed": false
   }
  },
  {
   "cell_type": "code",
   "execution_count": 1,
   "metadata": {
    "collapsed": true
   },
   "outputs": [],
   "source": [
    "from io import BytesIO\n",
    "import requests\n",
    "import time\n",
    "import pandas as pd\n",
    "import yfinance as yf\n",
    "import json\n",
    "import pandas_datareader as pdr\n",
    "from datetime import datetime\n"
   ]
  },
  {
   "cell_type": "code",
   "execution_count": 51,
   "outputs": [],
   "source": [],
   "metadata": {
    "collapsed": false
   }
  },
  {
   "cell_type": "markdown",
   "source": [
    "API Keys"
   ],
   "metadata": {
    "collapsed": false
   }
  },
  {
   "cell_type": "code",
   "execution_count": 2,
   "outputs": [],
   "source": [
    "apikey = ''\n"
   ],
   "metadata": {
    "collapsed": false
   }
  },
  {
   "cell_type": "code",
   "execution_count": 52,
   "outputs": [],
   "source": [],
   "metadata": {
    "collapsed": false
   }
  },
  {
   "cell_type": "code",
   "execution_count": 52,
   "outputs": [],
   "source": [],
   "metadata": {
    "collapsed": false
   }
  },
  {
   "cell_type": "markdown",
   "source": [
    "#### Get data"
   ],
   "metadata": {
    "collapsed": false
   }
  },
  {
   "cell_type": "markdown",
   "source": [
    "Earnings Data"
   ],
   "metadata": {
    "collapsed": false
   }
  },
  {
   "cell_type": "code",
   "execution_count": 52,
   "outputs": [],
   "source": [],
   "metadata": {
    "collapsed": false
   }
  },
  {
   "cell_type": "code",
   "execution_count": 3,
   "outputs": [],
   "source": [
    "baseurl = 'https://www.alphavantage.co/query?function=EARNINGS&symbol='\n",
    "\n",
    "stock = str(input('Stock: '))\n",
    "\n",
    "url = baseurl + stock + '&apikey=' + apikey\n"
   ],
   "metadata": {
    "collapsed": false
   }
  },
  {
   "cell_type": "code",
   "execution_count": 4,
   "outputs": [],
   "source": [
    "r = requests.get(url)\n",
    "\n",
    "\n",
    "ER_data = r.json()\n",
    "\n",
    "ER_data = ER_data['quarterlyEarnings']\n",
    "ER_data = pd.DataFrame.from_dict(ER_data)"
   ],
   "metadata": {
    "collapsed": false
   }
  },
  {
   "cell_type": "code",
   "execution_count": 5,
   "outputs": [
    {
     "data": {
      "text/plain": "   fiscalDateEnding reportedDate reportedEPS estimatedEPS surprise  \\\n0        2022-12-31   2023-01-25        1.19         1.13     0.06   \n1        2022-09-30   2022-10-19        1.05         0.99     0.06   \n2        2022-06-30   2022-07-20        0.76         0.61     0.15   \n3        2022-03-31   2022-04-20        1.07         0.75     0.32   \n4        2021-12-31   2022-01-26        0.85         0.79     0.06   \n5        2021-09-30   2021-10-20        0.62         0.53     0.09   \n6        2021-06-30   2021-07-26        0.48         0.33     0.15   \n7        2021-03-31   2021-04-26        0.31         0.26     0.05   \n8        2020-12-31   2021-01-27        0.27         0.34    -0.07   \n9        2020-09-30   2020-10-21        0.25         0.19     0.06   \n10       2020-06-30   2020-07-22        0.44        -0.04     0.48   \n11       2020-03-31   2020-04-29        0.23        -0.06     0.29   \n12       2019-12-31   2020-01-29        0.41         0.35     0.06   \n13       2019-09-30   2019-10-23        0.37        -0.08     0.45   \n14       2019-06-30   2019-07-24       -0.22        -0.07    -0.15   \n15       2019-03-31   2019-04-24       -0.58        -0.14    -0.44   \n16       2018-12-31   2019-01-30        0.39         0.44    -0.05   \n17       2018-09-30   2018-10-24        0.58        -0.04     0.62   \n18       2018-06-30   2018-08-01       -3.06        -2.92    -0.14   \n19       2018-03-31   2018-05-02       -3.35        -3.58     0.23   \n20       2017-12-31   2018-02-07       -3.04        -3.09     0.05   \n21       2017-09-30   2017-11-01       -2.92         -2.2    -0.72   \n22       2017-06-30   2017-08-02       -1.33        -1.82     0.49   \n23       2017-03-31   2017-05-03       -1.33        -0.81    -0.52   \n24       2016-12-31   2017-02-22       -0.69        -0.43    -0.26   \n25       2016-09-30   2016-10-26        0.71        -0.54     1.25   \n26       2016-06-30   2016-08-03       -1.61        -0.51     -1.1   \n27       2016-03-31   2016-05-04       -1.45        -0.58    -0.87   \n28       2015-12-31   2016-02-10       -0.87          0.1    -0.97   \n29       2015-09-30   2015-11-03       -0.58        -0.49    -0.09   \n30       2015-06-30   2015-08-05       -0.48         -0.6     0.12   \n31       2015-03-31   2015-05-06       -0.36         -0.5     0.14   \n32       2014-12-31   2015-02-11       -0.13         0.31    -0.44   \n33       2014-09-30   2014-11-05        0.02        -0.01     0.03   \n34       2014-06-30   2014-07-31        0.11         0.04     0.07   \n35       2014-03-31   2014-05-07        0.12          0.1     0.02   \n36       2013-12-31   2014-02-19        0.33         0.21     0.12   \n37       2013-09-30   2013-11-05        0.12         0.11     0.01   \n38       2013-06-30   2013-08-07         0.2        -0.17     0.37   \n39       2013-03-31   2013-05-08        0.12         0.04     0.08   \n40       2012-12-31   2013-02-20       -0.65        -0.53    -0.12   \n41       2012-09-30   2012-11-05       -0.92         -0.9    -0.02   \n42       2012-06-30   2012-07-25       -0.89        -0.92     0.03   \n43       2012-03-31   2012-05-09       -0.76        -0.69    -0.07   \n44       2011-12-31   2012-02-15       -0.69        -0.63    -0.06   \n45       2011-09-30   2011-11-02       -0.55        -0.59     0.04   \n46       2011-06-30   2011-08-03       -0.53        -0.51    -0.02   \n47       2011-03-31   2011-05-04       -0.44        -0.51     0.07   \n48       2010-12-31   2011-02-15       -0.47         -0.5     0.03   \n49       2010-09-30   2010-11-09       -0.37        -0.43     0.06   \n50       2010-06-30   2010-08-05     -0.0271         None     None   \n\n   surprisePercentage Symbol  \n0              5.3097   TSLA  \n1              6.0606   TSLA  \n2             24.5902   TSLA  \n3             42.6667   TSLA  \n4              7.5949   TSLA  \n5             16.9811   TSLA  \n6             45.4545   TSLA  \n7             19.2308   TSLA  \n8            -20.5882   TSLA  \n9             31.5789   TSLA  \n10               1200   TSLA  \n11           483.3333   TSLA  \n12            17.1429   TSLA  \n13              562.5   TSLA  \n14          -214.2857   TSLA  \n15          -314.2857   TSLA  \n16           -11.3636   TSLA  \n17               1550   TSLA  \n18            -4.7945   TSLA  \n19             6.4246   TSLA  \n20             1.6181   TSLA  \n21           -32.7273   TSLA  \n22            26.9231   TSLA  \n23           -64.1975   TSLA  \n24           -60.4651   TSLA  \n25           231.4815   TSLA  \n26          -215.6863   TSLA  \n27               -150   TSLA  \n28               -970   TSLA  \n29           -18.3673   TSLA  \n30                 20   TSLA  \n31                 28   TSLA  \n32          -141.9355   TSLA  \n33                300   TSLA  \n34                175   TSLA  \n35                 20   TSLA  \n36            57.1429   TSLA  \n37             9.0909   TSLA  \n38           217.6471   TSLA  \n39                200   TSLA  \n40           -22.6415   TSLA  \n41            -2.2222   TSLA  \n42             3.2609   TSLA  \n43           -10.1449   TSLA  \n44            -9.5238   TSLA  \n45             6.7797   TSLA  \n46            -3.9216   TSLA  \n47            13.7255   TSLA  \n48                  6   TSLA  \n49            13.9535   TSLA  \n50               None   TSLA  ",
      "text/html": "<div>\n<style scoped>\n    .dataframe tbody tr th:only-of-type {\n        vertical-align: middle;\n    }\n\n    .dataframe tbody tr th {\n        vertical-align: top;\n    }\n\n    .dataframe thead th {\n        text-align: right;\n    }\n</style>\n<table border=\"1\" class=\"dataframe\">\n  <thead>\n    <tr style=\"text-align: right;\">\n      <th></th>\n      <th>fiscalDateEnding</th>\n      <th>reportedDate</th>\n      <th>reportedEPS</th>\n      <th>estimatedEPS</th>\n      <th>surprise</th>\n      <th>surprisePercentage</th>\n      <th>Symbol</th>\n    </tr>\n  </thead>\n  <tbody>\n    <tr>\n      <th>0</th>\n      <td>2022-12-31</td>\n      <td>2023-01-25</td>\n      <td>1.19</td>\n      <td>1.13</td>\n      <td>0.06</td>\n      <td>5.3097</td>\n      <td>TSLA</td>\n    </tr>\n    <tr>\n      <th>1</th>\n      <td>2022-09-30</td>\n      <td>2022-10-19</td>\n      <td>1.05</td>\n      <td>0.99</td>\n      <td>0.06</td>\n      <td>6.0606</td>\n      <td>TSLA</td>\n    </tr>\n    <tr>\n      <th>2</th>\n      <td>2022-06-30</td>\n      <td>2022-07-20</td>\n      <td>0.76</td>\n      <td>0.61</td>\n      <td>0.15</td>\n      <td>24.5902</td>\n      <td>TSLA</td>\n    </tr>\n    <tr>\n      <th>3</th>\n      <td>2022-03-31</td>\n      <td>2022-04-20</td>\n      <td>1.07</td>\n      <td>0.75</td>\n      <td>0.32</td>\n      <td>42.6667</td>\n      <td>TSLA</td>\n    </tr>\n    <tr>\n      <th>4</th>\n      <td>2021-12-31</td>\n      <td>2022-01-26</td>\n      <td>0.85</td>\n      <td>0.79</td>\n      <td>0.06</td>\n      <td>7.5949</td>\n      <td>TSLA</td>\n    </tr>\n    <tr>\n      <th>5</th>\n      <td>2021-09-30</td>\n      <td>2021-10-20</td>\n      <td>0.62</td>\n      <td>0.53</td>\n      <td>0.09</td>\n      <td>16.9811</td>\n      <td>TSLA</td>\n    </tr>\n    <tr>\n      <th>6</th>\n      <td>2021-06-30</td>\n      <td>2021-07-26</td>\n      <td>0.48</td>\n      <td>0.33</td>\n      <td>0.15</td>\n      <td>45.4545</td>\n      <td>TSLA</td>\n    </tr>\n    <tr>\n      <th>7</th>\n      <td>2021-03-31</td>\n      <td>2021-04-26</td>\n      <td>0.31</td>\n      <td>0.26</td>\n      <td>0.05</td>\n      <td>19.2308</td>\n      <td>TSLA</td>\n    </tr>\n    <tr>\n      <th>8</th>\n      <td>2020-12-31</td>\n      <td>2021-01-27</td>\n      <td>0.27</td>\n      <td>0.34</td>\n      <td>-0.07</td>\n      <td>-20.5882</td>\n      <td>TSLA</td>\n    </tr>\n    <tr>\n      <th>9</th>\n      <td>2020-09-30</td>\n      <td>2020-10-21</td>\n      <td>0.25</td>\n      <td>0.19</td>\n      <td>0.06</td>\n      <td>31.5789</td>\n      <td>TSLA</td>\n    </tr>\n    <tr>\n      <th>10</th>\n      <td>2020-06-30</td>\n      <td>2020-07-22</td>\n      <td>0.44</td>\n      <td>-0.04</td>\n      <td>0.48</td>\n      <td>1200</td>\n      <td>TSLA</td>\n    </tr>\n    <tr>\n      <th>11</th>\n      <td>2020-03-31</td>\n      <td>2020-04-29</td>\n      <td>0.23</td>\n      <td>-0.06</td>\n      <td>0.29</td>\n      <td>483.3333</td>\n      <td>TSLA</td>\n    </tr>\n    <tr>\n      <th>12</th>\n      <td>2019-12-31</td>\n      <td>2020-01-29</td>\n      <td>0.41</td>\n      <td>0.35</td>\n      <td>0.06</td>\n      <td>17.1429</td>\n      <td>TSLA</td>\n    </tr>\n    <tr>\n      <th>13</th>\n      <td>2019-09-30</td>\n      <td>2019-10-23</td>\n      <td>0.37</td>\n      <td>-0.08</td>\n      <td>0.45</td>\n      <td>562.5</td>\n      <td>TSLA</td>\n    </tr>\n    <tr>\n      <th>14</th>\n      <td>2019-06-30</td>\n      <td>2019-07-24</td>\n      <td>-0.22</td>\n      <td>-0.07</td>\n      <td>-0.15</td>\n      <td>-214.2857</td>\n      <td>TSLA</td>\n    </tr>\n    <tr>\n      <th>15</th>\n      <td>2019-03-31</td>\n      <td>2019-04-24</td>\n      <td>-0.58</td>\n      <td>-0.14</td>\n      <td>-0.44</td>\n      <td>-314.2857</td>\n      <td>TSLA</td>\n    </tr>\n    <tr>\n      <th>16</th>\n      <td>2018-12-31</td>\n      <td>2019-01-30</td>\n      <td>0.39</td>\n      <td>0.44</td>\n      <td>-0.05</td>\n      <td>-11.3636</td>\n      <td>TSLA</td>\n    </tr>\n    <tr>\n      <th>17</th>\n      <td>2018-09-30</td>\n      <td>2018-10-24</td>\n      <td>0.58</td>\n      <td>-0.04</td>\n      <td>0.62</td>\n      <td>1550</td>\n      <td>TSLA</td>\n    </tr>\n    <tr>\n      <th>18</th>\n      <td>2018-06-30</td>\n      <td>2018-08-01</td>\n      <td>-3.06</td>\n      <td>-2.92</td>\n      <td>-0.14</td>\n      <td>-4.7945</td>\n      <td>TSLA</td>\n    </tr>\n    <tr>\n      <th>19</th>\n      <td>2018-03-31</td>\n      <td>2018-05-02</td>\n      <td>-3.35</td>\n      <td>-3.58</td>\n      <td>0.23</td>\n      <td>6.4246</td>\n      <td>TSLA</td>\n    </tr>\n    <tr>\n      <th>20</th>\n      <td>2017-12-31</td>\n      <td>2018-02-07</td>\n      <td>-3.04</td>\n      <td>-3.09</td>\n      <td>0.05</td>\n      <td>1.6181</td>\n      <td>TSLA</td>\n    </tr>\n    <tr>\n      <th>21</th>\n      <td>2017-09-30</td>\n      <td>2017-11-01</td>\n      <td>-2.92</td>\n      <td>-2.2</td>\n      <td>-0.72</td>\n      <td>-32.7273</td>\n      <td>TSLA</td>\n    </tr>\n    <tr>\n      <th>22</th>\n      <td>2017-06-30</td>\n      <td>2017-08-02</td>\n      <td>-1.33</td>\n      <td>-1.82</td>\n      <td>0.49</td>\n      <td>26.9231</td>\n      <td>TSLA</td>\n    </tr>\n    <tr>\n      <th>23</th>\n      <td>2017-03-31</td>\n      <td>2017-05-03</td>\n      <td>-1.33</td>\n      <td>-0.81</td>\n      <td>-0.52</td>\n      <td>-64.1975</td>\n      <td>TSLA</td>\n    </tr>\n    <tr>\n      <th>24</th>\n      <td>2016-12-31</td>\n      <td>2017-02-22</td>\n      <td>-0.69</td>\n      <td>-0.43</td>\n      <td>-0.26</td>\n      <td>-60.4651</td>\n      <td>TSLA</td>\n    </tr>\n    <tr>\n      <th>25</th>\n      <td>2016-09-30</td>\n      <td>2016-10-26</td>\n      <td>0.71</td>\n      <td>-0.54</td>\n      <td>1.25</td>\n      <td>231.4815</td>\n      <td>TSLA</td>\n    </tr>\n    <tr>\n      <th>26</th>\n      <td>2016-06-30</td>\n      <td>2016-08-03</td>\n      <td>-1.61</td>\n      <td>-0.51</td>\n      <td>-1.1</td>\n      <td>-215.6863</td>\n      <td>TSLA</td>\n    </tr>\n    <tr>\n      <th>27</th>\n      <td>2016-03-31</td>\n      <td>2016-05-04</td>\n      <td>-1.45</td>\n      <td>-0.58</td>\n      <td>-0.87</td>\n      <td>-150</td>\n      <td>TSLA</td>\n    </tr>\n    <tr>\n      <th>28</th>\n      <td>2015-12-31</td>\n      <td>2016-02-10</td>\n      <td>-0.87</td>\n      <td>0.1</td>\n      <td>-0.97</td>\n      <td>-970</td>\n      <td>TSLA</td>\n    </tr>\n    <tr>\n      <th>29</th>\n      <td>2015-09-30</td>\n      <td>2015-11-03</td>\n      <td>-0.58</td>\n      <td>-0.49</td>\n      <td>-0.09</td>\n      <td>-18.3673</td>\n      <td>TSLA</td>\n    </tr>\n    <tr>\n      <th>30</th>\n      <td>2015-06-30</td>\n      <td>2015-08-05</td>\n      <td>-0.48</td>\n      <td>-0.6</td>\n      <td>0.12</td>\n      <td>20</td>\n      <td>TSLA</td>\n    </tr>\n    <tr>\n      <th>31</th>\n      <td>2015-03-31</td>\n      <td>2015-05-06</td>\n      <td>-0.36</td>\n      <td>-0.5</td>\n      <td>0.14</td>\n      <td>28</td>\n      <td>TSLA</td>\n    </tr>\n    <tr>\n      <th>32</th>\n      <td>2014-12-31</td>\n      <td>2015-02-11</td>\n      <td>-0.13</td>\n      <td>0.31</td>\n      <td>-0.44</td>\n      <td>-141.9355</td>\n      <td>TSLA</td>\n    </tr>\n    <tr>\n      <th>33</th>\n      <td>2014-09-30</td>\n      <td>2014-11-05</td>\n      <td>0.02</td>\n      <td>-0.01</td>\n      <td>0.03</td>\n      <td>300</td>\n      <td>TSLA</td>\n    </tr>\n    <tr>\n      <th>34</th>\n      <td>2014-06-30</td>\n      <td>2014-07-31</td>\n      <td>0.11</td>\n      <td>0.04</td>\n      <td>0.07</td>\n      <td>175</td>\n      <td>TSLA</td>\n    </tr>\n    <tr>\n      <th>35</th>\n      <td>2014-03-31</td>\n      <td>2014-05-07</td>\n      <td>0.12</td>\n      <td>0.1</td>\n      <td>0.02</td>\n      <td>20</td>\n      <td>TSLA</td>\n    </tr>\n    <tr>\n      <th>36</th>\n      <td>2013-12-31</td>\n      <td>2014-02-19</td>\n      <td>0.33</td>\n      <td>0.21</td>\n      <td>0.12</td>\n      <td>57.1429</td>\n      <td>TSLA</td>\n    </tr>\n    <tr>\n      <th>37</th>\n      <td>2013-09-30</td>\n      <td>2013-11-05</td>\n      <td>0.12</td>\n      <td>0.11</td>\n      <td>0.01</td>\n      <td>9.0909</td>\n      <td>TSLA</td>\n    </tr>\n    <tr>\n      <th>38</th>\n      <td>2013-06-30</td>\n      <td>2013-08-07</td>\n      <td>0.2</td>\n      <td>-0.17</td>\n      <td>0.37</td>\n      <td>217.6471</td>\n      <td>TSLA</td>\n    </tr>\n    <tr>\n      <th>39</th>\n      <td>2013-03-31</td>\n      <td>2013-05-08</td>\n      <td>0.12</td>\n      <td>0.04</td>\n      <td>0.08</td>\n      <td>200</td>\n      <td>TSLA</td>\n    </tr>\n    <tr>\n      <th>40</th>\n      <td>2012-12-31</td>\n      <td>2013-02-20</td>\n      <td>-0.65</td>\n      <td>-0.53</td>\n      <td>-0.12</td>\n      <td>-22.6415</td>\n      <td>TSLA</td>\n    </tr>\n    <tr>\n      <th>41</th>\n      <td>2012-09-30</td>\n      <td>2012-11-05</td>\n      <td>-0.92</td>\n      <td>-0.9</td>\n      <td>-0.02</td>\n      <td>-2.2222</td>\n      <td>TSLA</td>\n    </tr>\n    <tr>\n      <th>42</th>\n      <td>2012-06-30</td>\n      <td>2012-07-25</td>\n      <td>-0.89</td>\n      <td>-0.92</td>\n      <td>0.03</td>\n      <td>3.2609</td>\n      <td>TSLA</td>\n    </tr>\n    <tr>\n      <th>43</th>\n      <td>2012-03-31</td>\n      <td>2012-05-09</td>\n      <td>-0.76</td>\n      <td>-0.69</td>\n      <td>-0.07</td>\n      <td>-10.1449</td>\n      <td>TSLA</td>\n    </tr>\n    <tr>\n      <th>44</th>\n      <td>2011-12-31</td>\n      <td>2012-02-15</td>\n      <td>-0.69</td>\n      <td>-0.63</td>\n      <td>-0.06</td>\n      <td>-9.5238</td>\n      <td>TSLA</td>\n    </tr>\n    <tr>\n      <th>45</th>\n      <td>2011-09-30</td>\n      <td>2011-11-02</td>\n      <td>-0.55</td>\n      <td>-0.59</td>\n      <td>0.04</td>\n      <td>6.7797</td>\n      <td>TSLA</td>\n    </tr>\n    <tr>\n      <th>46</th>\n      <td>2011-06-30</td>\n      <td>2011-08-03</td>\n      <td>-0.53</td>\n      <td>-0.51</td>\n      <td>-0.02</td>\n      <td>-3.9216</td>\n      <td>TSLA</td>\n    </tr>\n    <tr>\n      <th>47</th>\n      <td>2011-03-31</td>\n      <td>2011-05-04</td>\n      <td>-0.44</td>\n      <td>-0.51</td>\n      <td>0.07</td>\n      <td>13.7255</td>\n      <td>TSLA</td>\n    </tr>\n    <tr>\n      <th>48</th>\n      <td>2010-12-31</td>\n      <td>2011-02-15</td>\n      <td>-0.47</td>\n      <td>-0.5</td>\n      <td>0.03</td>\n      <td>6</td>\n      <td>TSLA</td>\n    </tr>\n    <tr>\n      <th>49</th>\n      <td>2010-09-30</td>\n      <td>2010-11-09</td>\n      <td>-0.37</td>\n      <td>-0.43</td>\n      <td>0.06</td>\n      <td>13.9535</td>\n      <td>TSLA</td>\n    </tr>\n    <tr>\n      <th>50</th>\n      <td>2010-06-30</td>\n      <td>2010-08-05</td>\n      <td>-0.0271</td>\n      <td>None</td>\n      <td>None</td>\n      <td>None</td>\n      <td>TSLA</td>\n    </tr>\n  </tbody>\n</table>\n</div>"
     },
     "execution_count": 5,
     "metadata": {},
     "output_type": "execute_result"
    }
   ],
   "source": [
    "ER_data.assign(Symbol = stock)\n"
   ],
   "metadata": {
    "collapsed": false
   }
  },
  {
   "cell_type": "markdown",
   "source": [
    "Price Data"
   ],
   "metadata": {
    "collapsed": false
   }
  },
  {
   "cell_type": "code",
   "execution_count": 55,
   "outputs": [],
   "source": [],
   "metadata": {
    "collapsed": false
   }
  },
  {
   "cell_type": "code",
   "execution_count": 6,
   "outputs": [],
   "source": [
    "# Get the stock data for a particular stock\n",
    "stock = yf.Ticker(stock)\n",
    "\n",
    "# Get the historical price data for the stock\n",
    "#stock = str(input('Stock: '))\n",
    "\n",
    "stock_data = stock.history(period=\"max\")\n",
    "\n",
    "# Get the date of the earnings announcement\n",
    "earnings_date = ER_data.reportedDate[1]\n",
    "\n",
    "# Get the price data for the day, week, and month following the earnings announcement\n",
    "day_after_earnings = stock_data[stock_data.index > earnings_date][:1]\n",
    "week_after_earnings = stock_data[stock_data.index > earnings_date][:5]\n",
    "month_after_earnings = stock_data[stock_data.index > earnings_date][:30]"
   ],
   "metadata": {
    "collapsed": false
   }
  },
  {
   "cell_type": "markdown",
   "source": [],
   "metadata": {
    "collapsed": false
   }
  },
  {
   "cell_type": "code",
   "execution_count": 7,
   "outputs": [
    {
     "data": {
      "text/plain": "                                 Open        High    Low       Close  \\\nDate                                                                   \n2022-10-20 00:00:00-04:00  208.279999  215.550003  202.0  207.279999   \n\n                              Volume  Dividends  Stock Splits  \nDate                                                           \n2022-10-20 00:00:00-04:00  117798100        0.0           0.0  ",
      "text/html": "<div>\n<style scoped>\n    .dataframe tbody tr th:only-of-type {\n        vertical-align: middle;\n    }\n\n    .dataframe tbody tr th {\n        vertical-align: top;\n    }\n\n    .dataframe thead th {\n        text-align: right;\n    }\n</style>\n<table border=\"1\" class=\"dataframe\">\n  <thead>\n    <tr style=\"text-align: right;\">\n      <th></th>\n      <th>Open</th>\n      <th>High</th>\n      <th>Low</th>\n      <th>Close</th>\n      <th>Volume</th>\n      <th>Dividends</th>\n      <th>Stock Splits</th>\n    </tr>\n    <tr>\n      <th>Date</th>\n      <th></th>\n      <th></th>\n      <th></th>\n      <th></th>\n      <th></th>\n      <th></th>\n      <th></th>\n    </tr>\n  </thead>\n  <tbody>\n    <tr>\n      <th>2022-10-20 00:00:00-04:00</th>\n      <td>208.279999</td>\n      <td>215.550003</td>\n      <td>202.0</td>\n      <td>207.279999</td>\n      <td>117798100</td>\n      <td>0.0</td>\n      <td>0.0</td>\n    </tr>\n  </tbody>\n</table>\n</div>"
     },
     "execution_count": 7,
     "metadata": {},
     "output_type": "execute_result"
    }
   ],
   "source": [
    "day_after_earnings"
   ],
   "metadata": {
    "collapsed": false
   }
  },
  {
   "cell_type": "code",
   "execution_count": 8,
   "outputs": [
    {
     "data": {
      "text/plain": "                                 Open        High         Low       Close  \\\nDate                                                                        \n2022-10-20 00:00:00-04:00  208.279999  215.550003  202.000000  207.279999   \n2022-10-21 00:00:00-04:00  206.419998  214.660004  203.800003  214.440002   \n2022-10-24 00:00:00-04:00  205.820007  213.500000  198.589996  211.250000   \n2022-10-25 00:00:00-04:00  210.100006  224.350006  210.000000  222.419998   \n2022-10-26 00:00:00-04:00  219.399994  230.600006  218.199997  224.639999   \n\n                              Volume  Dividends  Stock Splits  \nDate                                                           \n2022-10-20 00:00:00-04:00  117798100        0.0           0.0  \n2022-10-21 00:00:00-04:00   75713800        0.0           0.0  \n2022-10-24 00:00:00-04:00  100446800        0.0           0.0  \n2022-10-25 00:00:00-04:00   96507900        0.0           0.0  \n2022-10-26 00:00:00-04:00   85012500        0.0           0.0  ",
      "text/html": "<div>\n<style scoped>\n    .dataframe tbody tr th:only-of-type {\n        vertical-align: middle;\n    }\n\n    .dataframe tbody tr th {\n        vertical-align: top;\n    }\n\n    .dataframe thead th {\n        text-align: right;\n    }\n</style>\n<table border=\"1\" class=\"dataframe\">\n  <thead>\n    <tr style=\"text-align: right;\">\n      <th></th>\n      <th>Open</th>\n      <th>High</th>\n      <th>Low</th>\n      <th>Close</th>\n      <th>Volume</th>\n      <th>Dividends</th>\n      <th>Stock Splits</th>\n    </tr>\n    <tr>\n      <th>Date</th>\n      <th></th>\n      <th></th>\n      <th></th>\n      <th></th>\n      <th></th>\n      <th></th>\n      <th></th>\n    </tr>\n  </thead>\n  <tbody>\n    <tr>\n      <th>2022-10-20 00:00:00-04:00</th>\n      <td>208.279999</td>\n      <td>215.550003</td>\n      <td>202.000000</td>\n      <td>207.279999</td>\n      <td>117798100</td>\n      <td>0.0</td>\n      <td>0.0</td>\n    </tr>\n    <tr>\n      <th>2022-10-21 00:00:00-04:00</th>\n      <td>206.419998</td>\n      <td>214.660004</td>\n      <td>203.800003</td>\n      <td>214.440002</td>\n      <td>75713800</td>\n      <td>0.0</td>\n      <td>0.0</td>\n    </tr>\n    <tr>\n      <th>2022-10-24 00:00:00-04:00</th>\n      <td>205.820007</td>\n      <td>213.500000</td>\n      <td>198.589996</td>\n      <td>211.250000</td>\n      <td>100446800</td>\n      <td>0.0</td>\n      <td>0.0</td>\n    </tr>\n    <tr>\n      <th>2022-10-25 00:00:00-04:00</th>\n      <td>210.100006</td>\n      <td>224.350006</td>\n      <td>210.000000</td>\n      <td>222.419998</td>\n      <td>96507900</td>\n      <td>0.0</td>\n      <td>0.0</td>\n    </tr>\n    <tr>\n      <th>2022-10-26 00:00:00-04:00</th>\n      <td>219.399994</td>\n      <td>230.600006</td>\n      <td>218.199997</td>\n      <td>224.639999</td>\n      <td>85012500</td>\n      <td>0.0</td>\n      <td>0.0</td>\n    </tr>\n  </tbody>\n</table>\n</div>"
     },
     "execution_count": 8,
     "metadata": {},
     "output_type": "execute_result"
    }
   ],
   "source": [
    "week_after_earnings"
   ],
   "metadata": {
    "collapsed": false
   }
  },
  {
   "cell_type": "code",
   "execution_count": 9,
   "outputs": [
    {
     "data": {
      "text/plain": "                                 Open        High         Low       Close  \\\nDate                                                                        \n2022-10-20 00:00:00-04:00  208.279999  215.550003  202.000000  207.279999   \n2022-10-21 00:00:00-04:00  206.419998  214.660004  203.800003  214.440002   \n2022-10-24 00:00:00-04:00  205.820007  213.500000  198.589996  211.250000   \n2022-10-25 00:00:00-04:00  210.100006  224.350006  210.000000  222.419998   \n2022-10-26 00:00:00-04:00  219.399994  230.600006  218.199997  224.639999   \n2022-10-27 00:00:00-04:00  229.770004  233.809998  222.850006  225.089996   \n2022-10-28 00:00:00-04:00  225.399994  228.860001  216.350006  228.520004   \n2022-10-31 00:00:00-04:00  226.190002  229.850006  221.940002  227.539993   \n2022-11-01 00:00:00-04:00  234.050003  237.399994  227.279999  227.820007   \n2022-11-02 00:00:00-04:00  226.039993  227.869995  214.820007  214.979996   \n2022-11-03 00:00:00-04:00  211.360001  221.199997  210.139999  215.309998   \n2022-11-04 00:00:00-04:00  222.600006  223.800003  203.080002  207.470001   \n2022-11-07 00:00:00-05:00  208.649994  208.899994  196.660004  197.080002   \n2022-11-08 00:00:00-05:00  194.020004  195.199997  186.750000  191.300003   \n2022-11-09 00:00:00-05:00  190.779999  195.889999  177.119995  177.589996   \n2022-11-10 00:00:00-05:00  189.899994  191.000000  180.029999  190.720001   \n2022-11-11 00:00:00-05:00  186.000000  196.520004  182.589996  195.970001   \n2022-11-14 00:00:00-05:00  192.770004  195.729996  186.339996  190.949997   \n2022-11-15 00:00:00-05:00  195.880005  200.820007  192.059998  194.419998   \n2022-11-16 00:00:00-05:00  191.509995  192.570007  185.660004  186.919998   \n2022-11-17 00:00:00-05:00  183.960007  186.160004  180.899994  183.169998   \n2022-11-18 00:00:00-05:00  185.050003  185.190002  176.550003  180.190002   \n2022-11-21 00:00:00-05:00  175.850006  176.770004  167.539993  167.869995   \n2022-11-22 00:00:00-05:00  168.630005  170.919998  166.190002  169.910004   \n2022-11-23 00:00:00-05:00  173.570007  183.619995  172.500000  183.199997   \n2022-11-25 00:00:00-05:00  185.059998  185.199997  180.630005  182.860001   \n2022-11-28 00:00:00-05:00  179.960007  188.500000  179.000000  182.919998   \n2022-11-29 00:00:00-05:00  184.990005  186.380005  178.750000  180.830002   \n2022-11-30 00:00:00-05:00  182.429993  194.759995  180.630005  194.699997   \n2022-12-01 00:00:00-05:00  197.080002  198.919998  191.800003  194.699997   \n\n                              Volume  Dividends  Stock Splits  \nDate                                                           \n2022-10-20 00:00:00-04:00  117798100        0.0           0.0  \n2022-10-21 00:00:00-04:00   75713800        0.0           0.0  \n2022-10-24 00:00:00-04:00  100446800        0.0           0.0  \n2022-10-25 00:00:00-04:00   96507900        0.0           0.0  \n2022-10-26 00:00:00-04:00   85012500        0.0           0.0  \n2022-10-27 00:00:00-04:00   61638800        0.0           0.0  \n2022-10-28 00:00:00-04:00   69152400        0.0           0.0  \n2022-10-31 00:00:00-04:00   61554300        0.0           0.0  \n2022-11-01 00:00:00-04:00   62688800        0.0           0.0  \n2022-11-02 00:00:00-04:00   63070300        0.0           0.0  \n2022-11-03 00:00:00-04:00   56538800        0.0           0.0  \n2022-11-04 00:00:00-04:00   98622200        0.0           0.0  \n2022-11-07 00:00:00-05:00   93916500        0.0           0.0  \n2022-11-08 00:00:00-05:00  128803400        0.0           0.0  \n2022-11-09 00:00:00-05:00  127062700        0.0           0.0  \n2022-11-10 00:00:00-05:00  132703000        0.0           0.0  \n2022-11-11 00:00:00-05:00  114403600        0.0           0.0  \n2022-11-14 00:00:00-05:00   92226600        0.0           0.0  \n2022-11-15 00:00:00-05:00   91293800        0.0           0.0  \n2022-11-16 00:00:00-05:00   66567600        0.0           0.0  \n2022-11-17 00:00:00-05:00   64336000        0.0           0.0  \n2022-11-18 00:00:00-05:00   76048900        0.0           0.0  \n2022-11-21 00:00:00-05:00   92882700        0.0           0.0  \n2022-11-22 00:00:00-05:00   78452300        0.0           0.0  \n2022-11-23 00:00:00-05:00  109536700        0.0           0.0  \n2022-11-25 00:00:00-05:00   50672700        0.0           0.0  \n2022-11-28 00:00:00-05:00   92905200        0.0           0.0  \n2022-11-29 00:00:00-05:00   83357100        0.0           0.0  \n2022-11-30 00:00:00-05:00  109186400        0.0           0.0  \n2022-12-01 00:00:00-05:00   80046200        0.0           0.0  ",
      "text/html": "<div>\n<style scoped>\n    .dataframe tbody tr th:only-of-type {\n        vertical-align: middle;\n    }\n\n    .dataframe tbody tr th {\n        vertical-align: top;\n    }\n\n    .dataframe thead th {\n        text-align: right;\n    }\n</style>\n<table border=\"1\" class=\"dataframe\">\n  <thead>\n    <tr style=\"text-align: right;\">\n      <th></th>\n      <th>Open</th>\n      <th>High</th>\n      <th>Low</th>\n      <th>Close</th>\n      <th>Volume</th>\n      <th>Dividends</th>\n      <th>Stock Splits</th>\n    </tr>\n    <tr>\n      <th>Date</th>\n      <th></th>\n      <th></th>\n      <th></th>\n      <th></th>\n      <th></th>\n      <th></th>\n      <th></th>\n    </tr>\n  </thead>\n  <tbody>\n    <tr>\n      <th>2022-10-20 00:00:00-04:00</th>\n      <td>208.279999</td>\n      <td>215.550003</td>\n      <td>202.000000</td>\n      <td>207.279999</td>\n      <td>117798100</td>\n      <td>0.0</td>\n      <td>0.0</td>\n    </tr>\n    <tr>\n      <th>2022-10-21 00:00:00-04:00</th>\n      <td>206.419998</td>\n      <td>214.660004</td>\n      <td>203.800003</td>\n      <td>214.440002</td>\n      <td>75713800</td>\n      <td>0.0</td>\n      <td>0.0</td>\n    </tr>\n    <tr>\n      <th>2022-10-24 00:00:00-04:00</th>\n      <td>205.820007</td>\n      <td>213.500000</td>\n      <td>198.589996</td>\n      <td>211.250000</td>\n      <td>100446800</td>\n      <td>0.0</td>\n      <td>0.0</td>\n    </tr>\n    <tr>\n      <th>2022-10-25 00:00:00-04:00</th>\n      <td>210.100006</td>\n      <td>224.350006</td>\n      <td>210.000000</td>\n      <td>222.419998</td>\n      <td>96507900</td>\n      <td>0.0</td>\n      <td>0.0</td>\n    </tr>\n    <tr>\n      <th>2022-10-26 00:00:00-04:00</th>\n      <td>219.399994</td>\n      <td>230.600006</td>\n      <td>218.199997</td>\n      <td>224.639999</td>\n      <td>85012500</td>\n      <td>0.0</td>\n      <td>0.0</td>\n    </tr>\n    <tr>\n      <th>2022-10-27 00:00:00-04:00</th>\n      <td>229.770004</td>\n      <td>233.809998</td>\n      <td>222.850006</td>\n      <td>225.089996</td>\n      <td>61638800</td>\n      <td>0.0</td>\n      <td>0.0</td>\n    </tr>\n    <tr>\n      <th>2022-10-28 00:00:00-04:00</th>\n      <td>225.399994</td>\n      <td>228.860001</td>\n      <td>216.350006</td>\n      <td>228.520004</td>\n      <td>69152400</td>\n      <td>0.0</td>\n      <td>0.0</td>\n    </tr>\n    <tr>\n      <th>2022-10-31 00:00:00-04:00</th>\n      <td>226.190002</td>\n      <td>229.850006</td>\n      <td>221.940002</td>\n      <td>227.539993</td>\n      <td>61554300</td>\n      <td>0.0</td>\n      <td>0.0</td>\n    </tr>\n    <tr>\n      <th>2022-11-01 00:00:00-04:00</th>\n      <td>234.050003</td>\n      <td>237.399994</td>\n      <td>227.279999</td>\n      <td>227.820007</td>\n      <td>62688800</td>\n      <td>0.0</td>\n      <td>0.0</td>\n    </tr>\n    <tr>\n      <th>2022-11-02 00:00:00-04:00</th>\n      <td>226.039993</td>\n      <td>227.869995</td>\n      <td>214.820007</td>\n      <td>214.979996</td>\n      <td>63070300</td>\n      <td>0.0</td>\n      <td>0.0</td>\n    </tr>\n    <tr>\n      <th>2022-11-03 00:00:00-04:00</th>\n      <td>211.360001</td>\n      <td>221.199997</td>\n      <td>210.139999</td>\n      <td>215.309998</td>\n      <td>56538800</td>\n      <td>0.0</td>\n      <td>0.0</td>\n    </tr>\n    <tr>\n      <th>2022-11-04 00:00:00-04:00</th>\n      <td>222.600006</td>\n      <td>223.800003</td>\n      <td>203.080002</td>\n      <td>207.470001</td>\n      <td>98622200</td>\n      <td>0.0</td>\n      <td>0.0</td>\n    </tr>\n    <tr>\n      <th>2022-11-07 00:00:00-05:00</th>\n      <td>208.649994</td>\n      <td>208.899994</td>\n      <td>196.660004</td>\n      <td>197.080002</td>\n      <td>93916500</td>\n      <td>0.0</td>\n      <td>0.0</td>\n    </tr>\n    <tr>\n      <th>2022-11-08 00:00:00-05:00</th>\n      <td>194.020004</td>\n      <td>195.199997</td>\n      <td>186.750000</td>\n      <td>191.300003</td>\n      <td>128803400</td>\n      <td>0.0</td>\n      <td>0.0</td>\n    </tr>\n    <tr>\n      <th>2022-11-09 00:00:00-05:00</th>\n      <td>190.779999</td>\n      <td>195.889999</td>\n      <td>177.119995</td>\n      <td>177.589996</td>\n      <td>127062700</td>\n      <td>0.0</td>\n      <td>0.0</td>\n    </tr>\n    <tr>\n      <th>2022-11-10 00:00:00-05:00</th>\n      <td>189.899994</td>\n      <td>191.000000</td>\n      <td>180.029999</td>\n      <td>190.720001</td>\n      <td>132703000</td>\n      <td>0.0</td>\n      <td>0.0</td>\n    </tr>\n    <tr>\n      <th>2022-11-11 00:00:00-05:00</th>\n      <td>186.000000</td>\n      <td>196.520004</td>\n      <td>182.589996</td>\n      <td>195.970001</td>\n      <td>114403600</td>\n      <td>0.0</td>\n      <td>0.0</td>\n    </tr>\n    <tr>\n      <th>2022-11-14 00:00:00-05:00</th>\n      <td>192.770004</td>\n      <td>195.729996</td>\n      <td>186.339996</td>\n      <td>190.949997</td>\n      <td>92226600</td>\n      <td>0.0</td>\n      <td>0.0</td>\n    </tr>\n    <tr>\n      <th>2022-11-15 00:00:00-05:00</th>\n      <td>195.880005</td>\n      <td>200.820007</td>\n      <td>192.059998</td>\n      <td>194.419998</td>\n      <td>91293800</td>\n      <td>0.0</td>\n      <td>0.0</td>\n    </tr>\n    <tr>\n      <th>2022-11-16 00:00:00-05:00</th>\n      <td>191.509995</td>\n      <td>192.570007</td>\n      <td>185.660004</td>\n      <td>186.919998</td>\n      <td>66567600</td>\n      <td>0.0</td>\n      <td>0.0</td>\n    </tr>\n    <tr>\n      <th>2022-11-17 00:00:00-05:00</th>\n      <td>183.960007</td>\n      <td>186.160004</td>\n      <td>180.899994</td>\n      <td>183.169998</td>\n      <td>64336000</td>\n      <td>0.0</td>\n      <td>0.0</td>\n    </tr>\n    <tr>\n      <th>2022-11-18 00:00:00-05:00</th>\n      <td>185.050003</td>\n      <td>185.190002</td>\n      <td>176.550003</td>\n      <td>180.190002</td>\n      <td>76048900</td>\n      <td>0.0</td>\n      <td>0.0</td>\n    </tr>\n    <tr>\n      <th>2022-11-21 00:00:00-05:00</th>\n      <td>175.850006</td>\n      <td>176.770004</td>\n      <td>167.539993</td>\n      <td>167.869995</td>\n      <td>92882700</td>\n      <td>0.0</td>\n      <td>0.0</td>\n    </tr>\n    <tr>\n      <th>2022-11-22 00:00:00-05:00</th>\n      <td>168.630005</td>\n      <td>170.919998</td>\n      <td>166.190002</td>\n      <td>169.910004</td>\n      <td>78452300</td>\n      <td>0.0</td>\n      <td>0.0</td>\n    </tr>\n    <tr>\n      <th>2022-11-23 00:00:00-05:00</th>\n      <td>173.570007</td>\n      <td>183.619995</td>\n      <td>172.500000</td>\n      <td>183.199997</td>\n      <td>109536700</td>\n      <td>0.0</td>\n      <td>0.0</td>\n    </tr>\n    <tr>\n      <th>2022-11-25 00:00:00-05:00</th>\n      <td>185.059998</td>\n      <td>185.199997</td>\n      <td>180.630005</td>\n      <td>182.860001</td>\n      <td>50672700</td>\n      <td>0.0</td>\n      <td>0.0</td>\n    </tr>\n    <tr>\n      <th>2022-11-28 00:00:00-05:00</th>\n      <td>179.960007</td>\n      <td>188.500000</td>\n      <td>179.000000</td>\n      <td>182.919998</td>\n      <td>92905200</td>\n      <td>0.0</td>\n      <td>0.0</td>\n    </tr>\n    <tr>\n      <th>2022-11-29 00:00:00-05:00</th>\n      <td>184.990005</td>\n      <td>186.380005</td>\n      <td>178.750000</td>\n      <td>180.830002</td>\n      <td>83357100</td>\n      <td>0.0</td>\n      <td>0.0</td>\n    </tr>\n    <tr>\n      <th>2022-11-30 00:00:00-05:00</th>\n      <td>182.429993</td>\n      <td>194.759995</td>\n      <td>180.630005</td>\n      <td>194.699997</td>\n      <td>109186400</td>\n      <td>0.0</td>\n      <td>0.0</td>\n    </tr>\n    <tr>\n      <th>2022-12-01 00:00:00-05:00</th>\n      <td>197.080002</td>\n      <td>198.919998</td>\n      <td>191.800003</td>\n      <td>194.699997</td>\n      <td>80046200</td>\n      <td>0.0</td>\n      <td>0.0</td>\n    </tr>\n  </tbody>\n</table>\n</div>"
     },
     "execution_count": 9,
     "metadata": {},
     "output_type": "execute_result"
    }
   ],
   "source": [
    "month_after_earnings"
   ],
   "metadata": {
    "collapsed": false
   }
  },
  {
   "cell_type": "code",
   "execution_count": 59,
   "outputs": [],
   "source": [],
   "metadata": {
    "collapsed": false
   }
  },
  {
   "cell_type": "code",
   "execution_count": 59,
   "outputs": [],
   "source": [
    "\n",
    "\n"
   ],
   "metadata": {
    "collapsed": false
   }
  },
  {
   "cell_type": "markdown",
   "source": [
    "Earnings call sentiment"
   ],
   "metadata": {
    "collapsed": false
   }
  },
  {
   "cell_type": "code",
   "execution_count": 59,
   "outputs": [],
   "source": [],
   "metadata": {
    "collapsed": false
   }
  },
  {
   "cell_type": "code",
   "execution_count": 59,
   "outputs": [],
   "source": [],
   "metadata": {
    "collapsed": false
   }
  },
  {
   "cell_type": "markdown",
   "source": [
    "Options IV"
   ],
   "metadata": {
    "collapsed": false
   }
  },
  {
   "cell_type": "code",
   "execution_count": 59,
   "outputs": [],
   "source": [],
   "metadata": {
    "collapsed": false
   }
  },
  {
   "cell_type": "code",
   "execution_count": 59,
   "outputs": [],
   "source": [],
   "metadata": {
    "collapsed": false
   }
  },
  {
   "cell_type": "markdown",
   "source": [
    "Calculate Daily returns following ER"
   ],
   "metadata": {
    "collapsed": false
   }
  },
  {
   "cell_type": "code",
   "execution_count": 59,
   "outputs": [],
   "source": [],
   "metadata": {
    "collapsed": false
   }
  },
  {
   "cell_type": "code",
   "execution_count": 59,
   "outputs": [],
   "source": [],
   "metadata": {
    "collapsed": false
   }
  },
  {
   "cell_type": "markdown",
   "source": [
    "Ranking positive and negative SUE"
   ],
   "metadata": {
    "collapsed": false
   }
  },
  {
   "cell_type": "code",
   "execution_count": 59,
   "outputs": [],
   "source": [],
   "metadata": {
    "collapsed": false
   }
  },
  {
   "cell_type": "code",
   "execution_count": 59,
   "outputs": [],
   "source": [],
   "metadata": {
    "collapsed": false
   }
  },
  {
   "cell_type": "markdown",
   "source": [
    "Scaling the data"
   ],
   "metadata": {
    "collapsed": false
   }
  },
  {
   "cell_type": "code",
   "execution_count": 59,
   "outputs": [],
   "source": [],
   "metadata": {
    "collapsed": false
   }
  },
  {
   "cell_type": "markdown",
   "source": [
    "Applying PCA"
   ],
   "metadata": {
    "collapsed": false
   }
  },
  {
   "cell_type": "code",
   "execution_count": 60,
   "outputs": [
    {
     "data": {
      "text/plain": "     stock        date  EPS  SUE  earnings_call_sentiment  returns  \\\n0  Stock A  2022-01-01  2.5  0.1                      0.7     0.02   \n1  Stock A  2022-04-01  3.0 -0.2                      0.6    -0.03   \n2  Stock B  2022-01-01  1.5  0.3                      0.8     0.01   \n3  Stock B  2022-04-01  2.0 -0.1                      0.9     0.02   \n\n   implied_volatility  \n0                0.15  \n1                0.12  \n2                0.20  \n3                0.18  ",
      "text/html": "<div>\n<style scoped>\n    .dataframe tbody tr th:only-of-type {\n        vertical-align: middle;\n    }\n\n    .dataframe tbody tr th {\n        vertical-align: top;\n    }\n\n    .dataframe thead th {\n        text-align: right;\n    }\n</style>\n<table border=\"1\" class=\"dataframe\">\n  <thead>\n    <tr style=\"text-align: right;\">\n      <th></th>\n      <th>stock</th>\n      <th>date</th>\n      <th>EPS</th>\n      <th>SUE</th>\n      <th>earnings_call_sentiment</th>\n      <th>returns</th>\n      <th>implied_volatility</th>\n    </tr>\n  </thead>\n  <tbody>\n    <tr>\n      <th>0</th>\n      <td>Stock A</td>\n      <td>2022-01-01</td>\n      <td>2.5</td>\n      <td>0.1</td>\n      <td>0.7</td>\n      <td>0.02</td>\n      <td>0.15</td>\n    </tr>\n    <tr>\n      <th>1</th>\n      <td>Stock A</td>\n      <td>2022-04-01</td>\n      <td>3.0</td>\n      <td>-0.2</td>\n      <td>0.6</td>\n      <td>-0.03</td>\n      <td>0.12</td>\n    </tr>\n    <tr>\n      <th>2</th>\n      <td>Stock B</td>\n      <td>2022-01-01</td>\n      <td>1.5</td>\n      <td>0.3</td>\n      <td>0.8</td>\n      <td>0.01</td>\n      <td>0.20</td>\n    </tr>\n    <tr>\n      <th>3</th>\n      <td>Stock B</td>\n      <td>2022-04-01</td>\n      <td>2.0</td>\n      <td>-0.1</td>\n      <td>0.9</td>\n      <td>0.02</td>\n      <td>0.18</td>\n    </tr>\n  </tbody>\n</table>\n</div>"
     },
     "execution_count": 60,
     "metadata": {},
     "output_type": "execute_result"
    }
   ],
   "metadata": {
    "collapsed": false
   }
  },
  {
   "cell_type": "code",
   "execution_count": 60,
   "outputs": [],
   "source": [],
   "metadata": {
    "collapsed": false
   }
  },
 "metadata": {
  "kernelspec": {
   "display_name": "Python 3",
   "language": "python",
   "name": "python3"
  },
  "language_info": {
   "codemirror_mode": {
    "name": "ipython",
    "version": 2
   },
   "file_extension": ".py",
   "mimetype": "text/x-python",
   "name": "python",
   "nbconvert_exporter": "python",
   "pygments_lexer": "ipython2",
   "version": "2.7.6"
  }
 },
 "nbformat": 4,
 "nbformat_minor": 0
}
